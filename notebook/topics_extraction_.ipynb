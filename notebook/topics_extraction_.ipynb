{
  "nbformat": 4,
  "nbformat_minor": 0,
  "metadata": {
    "colab": {
      "provenance": []
    },
    "kernelspec": {
      "name": "python3",
      "display_name": "Python 3"
    },
    "language_info": {
      "name": "python"
    }
  },
  "cells": [
    {
      "cell_type": "code",
      "source": [
        "!pip install rake-nltk sqlalchemy pymysql pandas\n"
      ],
      "metadata": {
        "colab": {
          "base_uri": "https://localhost:8080/"
        },
        "id": "mt90JLzG_dUu",
        "outputId": "92a7b87d-65a9-4327-f63f-8c51f3f19f1f"
      },
      "execution_count": 1,
      "outputs": [
        {
          "output_type": "stream",
          "name": "stdout",
          "text": [
            "Collecting rake-nltk\n",
            "  Downloading rake_nltk-1.0.6-py3-none-any.whl.metadata (6.4 kB)\n",
            "Requirement already satisfied: sqlalchemy in /usr/local/lib/python3.10/dist-packages (2.0.36)\n",
            "Collecting pymysql\n",
            "  Downloading PyMySQL-1.1.1-py3-none-any.whl.metadata (4.4 kB)\n",
            "Requirement already satisfied: pandas in /usr/local/lib/python3.10/dist-packages (2.2.2)\n",
            "Requirement already satisfied: nltk<4.0.0,>=3.6.2 in /usr/local/lib/python3.10/dist-packages (from rake-nltk) (3.9.1)\n",
            "Requirement already satisfied: typing-extensions>=4.6.0 in /usr/local/lib/python3.10/dist-packages (from sqlalchemy) (4.12.2)\n",
            "Requirement already satisfied: greenlet!=0.4.17 in /usr/local/lib/python3.10/dist-packages (from sqlalchemy) (3.1.1)\n",
            "Requirement already satisfied: numpy>=1.22.4 in /usr/local/lib/python3.10/dist-packages (from pandas) (1.26.4)\n",
            "Requirement already satisfied: python-dateutil>=2.8.2 in /usr/local/lib/python3.10/dist-packages (from pandas) (2.8.2)\n",
            "Requirement already satisfied: pytz>=2020.1 in /usr/local/lib/python3.10/dist-packages (from pandas) (2024.2)\n",
            "Requirement already satisfied: tzdata>=2022.7 in /usr/local/lib/python3.10/dist-packages (from pandas) (2024.2)\n",
            "Requirement already satisfied: click in /usr/local/lib/python3.10/dist-packages (from nltk<4.0.0,>=3.6.2->rake-nltk) (8.1.7)\n",
            "Requirement already satisfied: joblib in /usr/local/lib/python3.10/dist-packages (from nltk<4.0.0,>=3.6.2->rake-nltk) (1.4.2)\n",
            "Requirement already satisfied: regex>=2021.8.3 in /usr/local/lib/python3.10/dist-packages (from nltk<4.0.0,>=3.6.2->rake-nltk) (2024.9.11)\n",
            "Requirement already satisfied: tqdm in /usr/local/lib/python3.10/dist-packages (from nltk<4.0.0,>=3.6.2->rake-nltk) (4.66.6)\n",
            "Requirement already satisfied: six>=1.5 in /usr/local/lib/python3.10/dist-packages (from python-dateutil>=2.8.2->pandas) (1.16.0)\n",
            "Downloading rake_nltk-1.0.6-py3-none-any.whl (9.1 kB)\n",
            "Downloading PyMySQL-1.1.1-py3-none-any.whl (44 kB)\n",
            "\u001b[2K   \u001b[90m━━━━━━━━━━━━━━━━━━━━━━━━━━━━━━━━━━━━━━━━\u001b[0m \u001b[32m45.0/45.0 kB\u001b[0m \u001b[31m2.5 MB/s\u001b[0m eta \u001b[36m0:00:00\u001b[0m\n",
            "\u001b[?25hInstalling collected packages: pymysql, rake-nltk\n",
            "Successfully installed pymysql-1.1.1 rake-nltk-1.0.6\n"
          ]
        }
      ]
    },
    {
      "cell_type": "code",
      "source": [
        "from google.colab import files\n",
        "uploaded = files.upload()\n"
      ],
      "metadata": {
        "colab": {
          "base_uri": "https://localhost:8080/",
          "height": 73
        },
        "id": "AnA-BJO-AFm5",
        "outputId": "71012846-fb2d-4ca7-f1e4-9ab01d844240"
      },
      "execution_count": 2,
      "outputs": [
        {
          "output_type": "display_data",
          "data": {
            "text/plain": [
              "<IPython.core.display.HTML object>"
            ],
            "text/html": [
              "\n",
              "     <input type=\"file\" id=\"files-ee00f25d-e7b9-4f93-9e5c-2ab45ac1fb3c\" name=\"files[]\" multiple disabled\n",
              "        style=\"border:none\" />\n",
              "     <output id=\"result-ee00f25d-e7b9-4f93-9e5c-2ab45ac1fb3c\">\n",
              "      Upload widget is only available when the cell has been executed in the\n",
              "      current browser session. Please rerun this cell to enable.\n",
              "      </output>\n",
              "      <script>// Copyright 2017 Google LLC\n",
              "//\n",
              "// Licensed under the Apache License, Version 2.0 (the \"License\");\n",
              "// you may not use this file except in compliance with the License.\n",
              "// You may obtain a copy of the License at\n",
              "//\n",
              "//      http://www.apache.org/licenses/LICENSE-2.0\n",
              "//\n",
              "// Unless required by applicable law or agreed to in writing, software\n",
              "// distributed under the License is distributed on an \"AS IS\" BASIS,\n",
              "// WITHOUT WARRANTIES OR CONDITIONS OF ANY KIND, either express or implied.\n",
              "// See the License for the specific language governing permissions and\n",
              "// limitations under the License.\n",
              "\n",
              "/**\n",
              " * @fileoverview Helpers for google.colab Python module.\n",
              " */\n",
              "(function(scope) {\n",
              "function span(text, styleAttributes = {}) {\n",
              "  const element = document.createElement('span');\n",
              "  element.textContent = text;\n",
              "  for (const key of Object.keys(styleAttributes)) {\n",
              "    element.style[key] = styleAttributes[key];\n",
              "  }\n",
              "  return element;\n",
              "}\n",
              "\n",
              "// Max number of bytes which will be uploaded at a time.\n",
              "const MAX_PAYLOAD_SIZE = 100 * 1024;\n",
              "\n",
              "function _uploadFiles(inputId, outputId) {\n",
              "  const steps = uploadFilesStep(inputId, outputId);\n",
              "  const outputElement = document.getElementById(outputId);\n",
              "  // Cache steps on the outputElement to make it available for the next call\n",
              "  // to uploadFilesContinue from Python.\n",
              "  outputElement.steps = steps;\n",
              "\n",
              "  return _uploadFilesContinue(outputId);\n",
              "}\n",
              "\n",
              "// This is roughly an async generator (not supported in the browser yet),\n",
              "// where there are multiple asynchronous steps and the Python side is going\n",
              "// to poll for completion of each step.\n",
              "// This uses a Promise to block the python side on completion of each step,\n",
              "// then passes the result of the previous step as the input to the next step.\n",
              "function _uploadFilesContinue(outputId) {\n",
              "  const outputElement = document.getElementById(outputId);\n",
              "  const steps = outputElement.steps;\n",
              "\n",
              "  const next = steps.next(outputElement.lastPromiseValue);\n",
              "  return Promise.resolve(next.value.promise).then((value) => {\n",
              "    // Cache the last promise value to make it available to the next\n",
              "    // step of the generator.\n",
              "    outputElement.lastPromiseValue = value;\n",
              "    return next.value.response;\n",
              "  });\n",
              "}\n",
              "\n",
              "/**\n",
              " * Generator function which is called between each async step of the upload\n",
              " * process.\n",
              " * @param {string} inputId Element ID of the input file picker element.\n",
              " * @param {string} outputId Element ID of the output display.\n",
              " * @return {!Iterable<!Object>} Iterable of next steps.\n",
              " */\n",
              "function* uploadFilesStep(inputId, outputId) {\n",
              "  const inputElement = document.getElementById(inputId);\n",
              "  inputElement.disabled = false;\n",
              "\n",
              "  const outputElement = document.getElementById(outputId);\n",
              "  outputElement.innerHTML = '';\n",
              "\n",
              "  const pickedPromise = new Promise((resolve) => {\n",
              "    inputElement.addEventListener('change', (e) => {\n",
              "      resolve(e.target.files);\n",
              "    });\n",
              "  });\n",
              "\n",
              "  const cancel = document.createElement('button');\n",
              "  inputElement.parentElement.appendChild(cancel);\n",
              "  cancel.textContent = 'Cancel upload';\n",
              "  const cancelPromise = new Promise((resolve) => {\n",
              "    cancel.onclick = () => {\n",
              "      resolve(null);\n",
              "    };\n",
              "  });\n",
              "\n",
              "  // Wait for the user to pick the files.\n",
              "  const files = yield {\n",
              "    promise: Promise.race([pickedPromise, cancelPromise]),\n",
              "    response: {\n",
              "      action: 'starting',\n",
              "    }\n",
              "  };\n",
              "\n",
              "  cancel.remove();\n",
              "\n",
              "  // Disable the input element since further picks are not allowed.\n",
              "  inputElement.disabled = true;\n",
              "\n",
              "  if (!files) {\n",
              "    return {\n",
              "      response: {\n",
              "        action: 'complete',\n",
              "      }\n",
              "    };\n",
              "  }\n",
              "\n",
              "  for (const file of files) {\n",
              "    const li = document.createElement('li');\n",
              "    li.append(span(file.name, {fontWeight: 'bold'}));\n",
              "    li.append(span(\n",
              "        `(${file.type || 'n/a'}) - ${file.size} bytes, ` +\n",
              "        `last modified: ${\n",
              "            file.lastModifiedDate ? file.lastModifiedDate.toLocaleDateString() :\n",
              "                                    'n/a'} - `));\n",
              "    const percent = span('0% done');\n",
              "    li.appendChild(percent);\n",
              "\n",
              "    outputElement.appendChild(li);\n",
              "\n",
              "    const fileDataPromise = new Promise((resolve) => {\n",
              "      const reader = new FileReader();\n",
              "      reader.onload = (e) => {\n",
              "        resolve(e.target.result);\n",
              "      };\n",
              "      reader.readAsArrayBuffer(file);\n",
              "    });\n",
              "    // Wait for the data to be ready.\n",
              "    let fileData = yield {\n",
              "      promise: fileDataPromise,\n",
              "      response: {\n",
              "        action: 'continue',\n",
              "      }\n",
              "    };\n",
              "\n",
              "    // Use a chunked sending to avoid message size limits. See b/62115660.\n",
              "    let position = 0;\n",
              "    do {\n",
              "      const length = Math.min(fileData.byteLength - position, MAX_PAYLOAD_SIZE);\n",
              "      const chunk = new Uint8Array(fileData, position, length);\n",
              "      position += length;\n",
              "\n",
              "      const base64 = btoa(String.fromCharCode.apply(null, chunk));\n",
              "      yield {\n",
              "        response: {\n",
              "          action: 'append',\n",
              "          file: file.name,\n",
              "          data: base64,\n",
              "        },\n",
              "      };\n",
              "\n",
              "      let percentDone = fileData.byteLength === 0 ?\n",
              "          100 :\n",
              "          Math.round((position / fileData.byteLength) * 100);\n",
              "      percent.textContent = `${percentDone}% done`;\n",
              "\n",
              "    } while (position < fileData.byteLength);\n",
              "  }\n",
              "\n",
              "  // All done.\n",
              "  yield {\n",
              "    response: {\n",
              "      action: 'complete',\n",
              "    }\n",
              "  };\n",
              "}\n",
              "\n",
              "scope.google = scope.google || {};\n",
              "scope.google.colab = scope.google.colab || {};\n",
              "scope.google.colab._files = {\n",
              "  _uploadFiles,\n",
              "  _uploadFilesContinue,\n",
              "};\n",
              "})(self);\n",
              "</script> "
            ]
          },
          "metadata": {}
        },
        {
          "output_type": "stream",
          "name": "stdout",
          "text": [
            "Saving hashscope-ebf03fb3ec3a.json to hashscope-ebf03fb3ec3a.json\n"
          ]
        }
      ]
    },
    {
      "cell_type": "code",
      "source": [
        "import os\n",
        "\n",
        "# Ganti 'your-key-file.json' dengan nama file JSON yang diunggah\n",
        "os.environ[\"GOOGLE_APPLICATION_CREDENTIALS\"] = \"hashscope-ebf03fb3ec3a.json\"\n"
      ],
      "metadata": {
        "id": "J9InexJlAHBH"
      },
      "execution_count": 3,
      "outputs": []
    },
    {
      "cell_type": "code",
      "source": [
        "!wget https://storage.googleapis.com/cloud-sql-connectors/cloud-sql-proxy/v2.5.0/cloud-sql-proxy.linux.amd64 -O cloud_sql_proxy\n",
        "!chmod +x cloud_sql_proxy\n"
      ],
      "metadata": {
        "colab": {
          "base_uri": "https://localhost:8080/"
        },
        "id": "iUHtjWzBAH2g",
        "outputId": "82c9ee5b-4832-4ab0-db1b-60ee4d8f4756"
      },
      "execution_count": 4,
      "outputs": [
        {
          "output_type": "stream",
          "name": "stdout",
          "text": [
            "--2024-12-05 04:59:30--  https://storage.googleapis.com/cloud-sql-connectors/cloud-sql-proxy/v2.5.0/cloud-sql-proxy.linux.amd64\n",
            "Resolving storage.googleapis.com (storage.googleapis.com)... 74.125.137.207, 142.251.2.207, 2607:f8b0:4023:c0d::cf\n",
            "Connecting to storage.googleapis.com (storage.googleapis.com)|74.125.137.207|:443... connected.\n",
            "HTTP request sent, awaiting response... 200 OK\n",
            "Length: 31154279 (30M) [application/octet-stream]\n",
            "Saving to: ‘cloud_sql_proxy’\n",
            "\n",
            "cloud_sql_proxy     100%[===================>]  29.71M   195MB/s    in 0.2s    \n",
            "\n",
            "2024-12-05 04:59:30 (195 MB/s) - ‘cloud_sql_proxy’ saved [31154279/31154279]\n",
            "\n"
          ]
        }
      ]
    },
    {
      "cell_type": "code",
      "source": [
        "!nohup ./cloud_sql_proxy hashscope:asia-southeast2:dbhashscope --port=3306 --credentials-file=hashscope-ebf03fb3ec3a.json > proxy.log 2>&1 &\n"
      ],
      "metadata": {
        "id": "AVb-_u4AAIul"
      },
      "execution_count": 5,
      "outputs": []
    },
    {
      "cell_type": "code",
      "source": [
        "!cat proxy.log\n"
      ],
      "metadata": {
        "colab": {
          "base_uri": "https://localhost:8080/"
        },
        "id": "fWXSJQrKAJ4S",
        "outputId": "0e672ad3-ff15-49e9-d616-b79f1ebdbf04"
      },
      "execution_count": 6,
      "outputs": [
        {
          "output_type": "stream",
          "name": "stdout",
          "text": [
            "2024/12/05 04:59:30 Authorizing with the credentials file at \"hashscope-ebf03fb3ec3a.json\"\n",
            "2024/12/05 04:59:31 [hashscope:asia-southeast2:dbhashscope] Listening on 127.0.0.1:3306\n",
            "2024/12/05 04:59:31 The proxy has started successfully and is ready for new connections!\n"
          ]
        }
      ]
    },
    {
      "cell_type": "code",
      "source": [
        "from rake_nltk import Rake\n",
        "import pandas as pd\n",
        "from sqlalchemy import create_engine\n",
        "\n",
        "# === KONFIGURASI DATABASE ===\n",
        "db_user = \"root\"\n",
        "db_password = \"123456\"\n",
        "db_name = \"db_hashscope\"\n",
        "db_ip = \"127.0.0.1\"\n",
        "db_port = 3306\n",
        "\n",
        "# Buat URL koneksi\n",
        "db_connection_url = f\"mysql+pymysql://{db_user}:{db_password}@{db_ip}:{db_port}/{db_name}\"\n",
        "\n",
        "# Buat koneksi SQLAlchemy\n",
        "engine = create_engine(db_connection_url)\n",
        "\n"
      ],
      "metadata": {
        "id": "LjT7MrGKALlo"
      },
      "execution_count": 8,
      "outputs": []
    },
    {
      "cell_type": "code",
      "source": [
        "try:\n",
        "    with connection.cursor() as cursor:\n",
        "        cursor.execute(\"SHOW TABLES;\")\n",
        "        tables = cursor.fetchall()\n",
        "        print(\"Tabel dalam database:\", tables)\n",
        "except Exception as e:\n",
        "    print(f\"Terjadi kesalahan saat menjalankan query: {e}\")\n"
      ],
      "metadata": {
        "colab": {
          "base_uri": "https://localhost:8080/"
        },
        "id": "dhcmFYrUAMum",
        "outputId": "7d570988-78b9-4787-ef22-658aa97376df"
      },
      "execution_count": 9,
      "outputs": [
        {
          "output_type": "stream",
          "name": "stdout",
          "text": [
            "Terjadi kesalahan saat menjalankan query: name 'connection' is not defined\n"
          ]
        }
      ]
    },
    {
      "cell_type": "code",
      "source": [
        "!pip install rake-nltk -q"
      ],
      "metadata": {
        "id": "2SEIjqLhMQDq"
      },
      "execution_count": 20,
      "outputs": []
    },
    {
      "cell_type": "code",
      "source": [
        "from rake_nltk import Rake"
      ],
      "metadata": {
        "id": "TQcZmi5cMSN_"
      },
      "execution_count": 21,
      "outputs": []
    },
    {
      "cell_type": "code",
      "source": [
        "import nltk\n",
        "nltk.download('punkt_tab')"
      ],
      "metadata": {
        "colab": {
          "base_uri": "https://localhost:8080/"
        },
        "id": "ZZLCN0mINvZs",
        "outputId": "987f6ef1-afcd-4643-8c34-f95e505570cd"
      },
      "execution_count": 25,
      "outputs": [
        {
          "output_type": "stream",
          "name": "stderr",
          "text": [
            "[nltk_data] Downloading package punkt_tab to /root/nltk_data...\n",
            "[nltk_data]   Unzipping tokenizers/punkt_tab.zip.\n"
          ]
        },
        {
          "output_type": "execute_result",
          "data": {
            "text/plain": [
              "True"
            ]
          },
          "metadata": {},
          "execution_count": 25
        }
      ]
    },
    {
      "cell_type": "code",
      "execution_count": 89,
      "metadata": {
        "id": "dLONbi9p--wC"
      },
      "outputs": [],
      "source": [
        "# Inisialisasi RAKE dengan batas panjang frasa\n",
        "r = Rake(punctuations=['.', ',', ';', ':', '\"', '!', '?', ']', '[', '(', ')', '...', '-'], max_length=7)  # Batasi hingga 3 kata\n"
      ]
    },
    {
      "cell_type": "code",
      "source": [
        "def fetch_data():\n",
        "    query = \"\"\"\n",
        "    SELECT idx_datasets AS id, full_text FROM x_datasets\n",
        "    UNION\n",
        "    SELECT idweb_datasets AS id, full_text FROM web_datasets\n",
        "    UNION\n",
        "    SELECT idyoutube_datasets AS id, full_text FROM youtube_datasets;\n",
        "    \"\"\"\n",
        "    with engine.connect() as conn:\n",
        "        df = pd.read_sql(query, conn)\n",
        "    print(f\"Data berhasil diambil: {len(df)} baris\")\n",
        "    return df\n",
        "\n",
        "# Ambil data dari database\n",
        "data = fetch_data()\n"
      ],
      "metadata": {
        "id": "2OHT-fVr_bpQ",
        "colab": {
          "base_uri": "https://localhost:8080/"
        },
        "outputId": "51cd33ee-b869-40d2-d838-42969b8a6d32"
      },
      "execution_count": 90,
      "outputs": [
        {
          "output_type": "stream",
          "name": "stdout",
          "text": [
            "Data berhasil diambil: 204 baris\n"
          ]
        }
      ]
    },
    {
      "cell_type": "code",
      "source": [
        "import re\n",
        "\n",
        "def preprocess_text(text):\n",
        "    # Hapus mention seperti @username\n",
        "    text = re.sub(r\"@\\w+\", \"\", text)\n",
        "    # Hapus link yang mengandung https atau www\n",
        "    text = re.sub(r\"http\\S+|www\\.\\S+\", \"\", text)\n",
        "    # Hapus spasi ekstra yang mungkin muncul setelah penghapusan\n",
        "    text = re.sub(r\"\\s+\", \" \", text).strip()\n",
        "    return text\n"
      ],
      "metadata": {
        "id": "bfns3ldeOHlt"
      },
      "execution_count": 91,
      "outputs": []
    },
    {
      "cell_type": "code",
      "source": [
        "# Preprocessing teks untuk menghapus kata dengan @\n",
        "print(\"Melakukan preprocessing teks...\")\n",
        "data[\"preprocessed_text\"] = data[\"full_text\"].apply(preprocess_text)\n",
        "print(\"Preprocessing selesai.\")\n"
      ],
      "metadata": {
        "colab": {
          "base_uri": "https://localhost:8080/"
        },
        "id": "1Rkm6zJ1OJVW",
        "outputId": "78833daf-90a9-487f-d80e-e15000804eb6"
      },
      "execution_count": 92,
      "outputs": [
        {
          "output_type": "stream",
          "name": "stdout",
          "text": [
            "Melakukan preprocessing teks...\n",
            "Preprocessing selesai.\n"
          ]
        }
      ]
    },
    {
      "cell_type": "code",
      "source": [
        "# Fungsi untuk mengekstraksi kata kunci menggunakan RAKE\n",
        "def extract_keywords_with_scores(text):\n",
        "    r.extract_keywords_from_text(text)\n",
        "    return r.get_ranked_phrases_with_scores()  # Skor dan frasa\n",
        "\n",
        "# Terapkan RAKE ke teks yang sudah diproses\n",
        "print(\"Melakukan ekstraksi kata kunci dengan RAKE...\")\n",
        "data[\"rake_results\"] = data[\"preprocessed_text\"].apply(extract_keywords_with_scores)\n",
        "\n",
        "# Ubah hasil menjadi DataFrame terpisah\n",
        "rake_results = []\n",
        "for idx, row in data.iterrows():\n",
        "    for score, phrase in row[\"rake_results\"]:\n",
        "        rake_results.append({\"id\": row[\"id\"], \"score\": score, \"phrase\": phrase})\n",
        "\n",
        "rake_df = pd.DataFrame(rake_results)\n",
        "filtered_rake_df = rake_df[rake_df[\"score\"] > 10]\n",
        "\n",
        "print(\"Ekstraksi selesai.\")\n"
      ],
      "metadata": {
        "colab": {
          "base_uri": "https://localhost:8080/"
        },
        "id": "hj77CkDq_fwJ",
        "outputId": "9f312c5e-d4f7-4e20-83e7-ec4cbcd19ce3"
      },
      "execution_count": 96,
      "outputs": [
        {
          "output_type": "stream",
          "name": "stdout",
          "text": [
            "Melakukan ekstraksi kata kunci dengan RAKE...\n",
            "Ekstraksi selesai.\n"
          ]
        }
      ]
    },
    {
      "cell_type": "code",
      "source": [
        "# Simpan hasil RAKE ke CSV\n",
        "csv_path = \"rake_results.csv\"\n",
        "filtered_rake_df.to_csv(csv_path, index=False)\n",
        "print(f\"Hasil RAKE disimpan sementara ke {csv_path}.\")\n"
      ],
      "metadata": {
        "colab": {
          "base_uri": "https://localhost:8080/"
        },
        "id": "5p8TOuvI_iZI",
        "outputId": "e7c5a0ad-0c92-43ef-9027-c5585140bad0"
      },
      "execution_count": 97,
      "outputs": [
        {
          "output_type": "stream",
          "name": "stdout",
          "text": [
            "Hasil RAKE disimpan sementara ke rake_results.csv.\n"
          ]
        }
      ]
    },
    {
      "cell_type": "code",
      "source": [
        "# Tampilkan 20 data pertama setelah filter\n",
        "print(\"20 Data Setelah Filter (Skor > 10):\")\n",
        "display(filtered_rake_df.head(20))\n"
      ],
      "metadata": {
        "colab": {
          "base_uri": "https://localhost:8080/",
          "height": 694
        },
        "id": "t71AyVmVBatp",
        "outputId": "548f5934-9537-4e76-a52c-390c7684454c"
      },
      "execution_count": 98,
      "outputs": [
        {
          "output_type": "stream",
          "name": "stdout",
          "text": [
            "20 Data Setelah Filter (Skor > 10):\n"
          ]
        },
        {
          "output_type": "display_data",
          "data": {
            "text/plain": [
              "     id  score                                             phrase\n",
              "0   103   49.0      pakai teknologi jaman perang dunia hairan aku\n",
              "1   105   49.0        kayaknya yg ini sdh pakai teknologi canggih\n",
              "2   105   36.0           biaya pembuatannya gak masuk mumgkin bro\n",
              "3   105   25.0                    bukan kayak hasil printer warna\n",
              "4   107   16.0                         masuk kuliah wajib militer\n",
              "5   108   25.0               berarti ini masalah gelombang sinyal\n",
              "6   109   23.5                  d4 supervisor jaminan mutu pangan\n",
              "7   109   23.5                  d4 supervisor jaminan mutu pangan\n",
              "20  110   49.0         1 dan tingkatkan kualitas grafis game anda\n",
              "21  110   16.0                            # idncitizen # promedia\n",
              "23  115   49.0         wowwww teknologi pling mutakhir edit ni ya\n",
              "25  121   16.0                      ngelaprak pake kelingking ges\n",
              "26  121   16.0                          challenge ngejurnal & amp\n",
              "27  122   16.0                         gabung di channel telegram\n",
              "29  125   49.0  salah satu efek negatif makin canggihnya tekno...\n",
              "30  125   25.0                     byk generasi muda yg melenceng\n",
              "33  128   36.0                  kl cara teknologi nt kena undang²\n",
              "34  130   16.0                         teknologi purse udah bagus\n",
              "36  133   36.0       sedangkan angkasa juga masih termasuk langit\n",
              "37  133   36.0                   ok krn emg teknologi belum mampu"
            ],
            "text/html": [
              "\n",
              "  <div id=\"df-1fe5bc45-7749-4963-8004-c0ced8293ff0\" class=\"colab-df-container\">\n",
              "    <div>\n",
              "<style scoped>\n",
              "    .dataframe tbody tr th:only-of-type {\n",
              "        vertical-align: middle;\n",
              "    }\n",
              "\n",
              "    .dataframe tbody tr th {\n",
              "        vertical-align: top;\n",
              "    }\n",
              "\n",
              "    .dataframe thead th {\n",
              "        text-align: right;\n",
              "    }\n",
              "</style>\n",
              "<table border=\"1\" class=\"dataframe\">\n",
              "  <thead>\n",
              "    <tr style=\"text-align: right;\">\n",
              "      <th></th>\n",
              "      <th>id</th>\n",
              "      <th>score</th>\n",
              "      <th>phrase</th>\n",
              "    </tr>\n",
              "  </thead>\n",
              "  <tbody>\n",
              "    <tr>\n",
              "      <th>0</th>\n",
              "      <td>103</td>\n",
              "      <td>49.0</td>\n",
              "      <td>pakai teknologi jaman perang dunia hairan aku</td>\n",
              "    </tr>\n",
              "    <tr>\n",
              "      <th>1</th>\n",
              "      <td>105</td>\n",
              "      <td>49.0</td>\n",
              "      <td>kayaknya yg ini sdh pakai teknologi canggih</td>\n",
              "    </tr>\n",
              "    <tr>\n",
              "      <th>2</th>\n",
              "      <td>105</td>\n",
              "      <td>36.0</td>\n",
              "      <td>biaya pembuatannya gak masuk mumgkin bro</td>\n",
              "    </tr>\n",
              "    <tr>\n",
              "      <th>3</th>\n",
              "      <td>105</td>\n",
              "      <td>25.0</td>\n",
              "      <td>bukan kayak hasil printer warna</td>\n",
              "    </tr>\n",
              "    <tr>\n",
              "      <th>4</th>\n",
              "      <td>107</td>\n",
              "      <td>16.0</td>\n",
              "      <td>masuk kuliah wajib militer</td>\n",
              "    </tr>\n",
              "    <tr>\n",
              "      <th>5</th>\n",
              "      <td>108</td>\n",
              "      <td>25.0</td>\n",
              "      <td>berarti ini masalah gelombang sinyal</td>\n",
              "    </tr>\n",
              "    <tr>\n",
              "      <th>6</th>\n",
              "      <td>109</td>\n",
              "      <td>23.5</td>\n",
              "      <td>d4 supervisor jaminan mutu pangan</td>\n",
              "    </tr>\n",
              "    <tr>\n",
              "      <th>7</th>\n",
              "      <td>109</td>\n",
              "      <td>23.5</td>\n",
              "      <td>d4 supervisor jaminan mutu pangan</td>\n",
              "    </tr>\n",
              "    <tr>\n",
              "      <th>20</th>\n",
              "      <td>110</td>\n",
              "      <td>49.0</td>\n",
              "      <td>1 dan tingkatkan kualitas grafis game anda</td>\n",
              "    </tr>\n",
              "    <tr>\n",
              "      <th>21</th>\n",
              "      <td>110</td>\n",
              "      <td>16.0</td>\n",
              "      <td># idncitizen # promedia</td>\n",
              "    </tr>\n",
              "    <tr>\n",
              "      <th>23</th>\n",
              "      <td>115</td>\n",
              "      <td>49.0</td>\n",
              "      <td>wowwww teknologi pling mutakhir edit ni ya</td>\n",
              "    </tr>\n",
              "    <tr>\n",
              "      <th>25</th>\n",
              "      <td>121</td>\n",
              "      <td>16.0</td>\n",
              "      <td>ngelaprak pake kelingking ges</td>\n",
              "    </tr>\n",
              "    <tr>\n",
              "      <th>26</th>\n",
              "      <td>121</td>\n",
              "      <td>16.0</td>\n",
              "      <td>challenge ngejurnal &amp; amp</td>\n",
              "    </tr>\n",
              "    <tr>\n",
              "      <th>27</th>\n",
              "      <td>122</td>\n",
              "      <td>16.0</td>\n",
              "      <td>gabung di channel telegram</td>\n",
              "    </tr>\n",
              "    <tr>\n",
              "      <th>29</th>\n",
              "      <td>125</td>\n",
              "      <td>49.0</td>\n",
              "      <td>salah satu efek negatif makin canggihnya tekno...</td>\n",
              "    </tr>\n",
              "    <tr>\n",
              "      <th>30</th>\n",
              "      <td>125</td>\n",
              "      <td>25.0</td>\n",
              "      <td>byk generasi muda yg melenceng</td>\n",
              "    </tr>\n",
              "    <tr>\n",
              "      <th>33</th>\n",
              "      <td>128</td>\n",
              "      <td>36.0</td>\n",
              "      <td>kl cara teknologi nt kena undang²</td>\n",
              "    </tr>\n",
              "    <tr>\n",
              "      <th>34</th>\n",
              "      <td>130</td>\n",
              "      <td>16.0</td>\n",
              "      <td>teknologi purse udah bagus</td>\n",
              "    </tr>\n",
              "    <tr>\n",
              "      <th>36</th>\n",
              "      <td>133</td>\n",
              "      <td>36.0</td>\n",
              "      <td>sedangkan angkasa juga masih termasuk langit</td>\n",
              "    </tr>\n",
              "    <tr>\n",
              "      <th>37</th>\n",
              "      <td>133</td>\n",
              "      <td>36.0</td>\n",
              "      <td>ok krn emg teknologi belum mampu</td>\n",
              "    </tr>\n",
              "  </tbody>\n",
              "</table>\n",
              "</div>\n",
              "    <div class=\"colab-df-buttons\">\n",
              "\n",
              "  <div class=\"colab-df-container\">\n",
              "    <button class=\"colab-df-convert\" onclick=\"convertToInteractive('df-1fe5bc45-7749-4963-8004-c0ced8293ff0')\"\n",
              "            title=\"Convert this dataframe to an interactive table.\"\n",
              "            style=\"display:none;\">\n",
              "\n",
              "  <svg xmlns=\"http://www.w3.org/2000/svg\" height=\"24px\" viewBox=\"0 -960 960 960\">\n",
              "    <path d=\"M120-120v-720h720v720H120Zm60-500h600v-160H180v160Zm220 220h160v-160H400v160Zm0 220h160v-160H400v160ZM180-400h160v-160H180v160Zm440 0h160v-160H620v160ZM180-180h160v-160H180v160Zm440 0h160v-160H620v160Z\"/>\n",
              "  </svg>\n",
              "    </button>\n",
              "\n",
              "  <style>\n",
              "    .colab-df-container {\n",
              "      display:flex;\n",
              "      gap: 12px;\n",
              "    }\n",
              "\n",
              "    .colab-df-convert {\n",
              "      background-color: #E8F0FE;\n",
              "      border: none;\n",
              "      border-radius: 50%;\n",
              "      cursor: pointer;\n",
              "      display: none;\n",
              "      fill: #1967D2;\n",
              "      height: 32px;\n",
              "      padding: 0 0 0 0;\n",
              "      width: 32px;\n",
              "    }\n",
              "\n",
              "    .colab-df-convert:hover {\n",
              "      background-color: #E2EBFA;\n",
              "      box-shadow: 0px 1px 2px rgba(60, 64, 67, 0.3), 0px 1px 3px 1px rgba(60, 64, 67, 0.15);\n",
              "      fill: #174EA6;\n",
              "    }\n",
              "\n",
              "    .colab-df-buttons div {\n",
              "      margin-bottom: 4px;\n",
              "    }\n",
              "\n",
              "    [theme=dark] .colab-df-convert {\n",
              "      background-color: #3B4455;\n",
              "      fill: #D2E3FC;\n",
              "    }\n",
              "\n",
              "    [theme=dark] .colab-df-convert:hover {\n",
              "      background-color: #434B5C;\n",
              "      box-shadow: 0px 1px 3px 1px rgba(0, 0, 0, 0.15);\n",
              "      filter: drop-shadow(0px 1px 2px rgba(0, 0, 0, 0.3));\n",
              "      fill: #FFFFFF;\n",
              "    }\n",
              "  </style>\n",
              "\n",
              "    <script>\n",
              "      const buttonEl =\n",
              "        document.querySelector('#df-1fe5bc45-7749-4963-8004-c0ced8293ff0 button.colab-df-convert');\n",
              "      buttonEl.style.display =\n",
              "        google.colab.kernel.accessAllowed ? 'block' : 'none';\n",
              "\n",
              "      async function convertToInteractive(key) {\n",
              "        const element = document.querySelector('#df-1fe5bc45-7749-4963-8004-c0ced8293ff0');\n",
              "        const dataTable =\n",
              "          await google.colab.kernel.invokeFunction('convertToInteractive',\n",
              "                                                    [key], {});\n",
              "        if (!dataTable) return;\n",
              "\n",
              "        const docLinkHtml = 'Like what you see? Visit the ' +\n",
              "          '<a target=\"_blank\" href=https://colab.research.google.com/notebooks/data_table.ipynb>data table notebook</a>'\n",
              "          + ' to learn more about interactive tables.';\n",
              "        element.innerHTML = '';\n",
              "        dataTable['output_type'] = 'display_data';\n",
              "        await google.colab.output.renderOutput(dataTable, element);\n",
              "        const docLink = document.createElement('div');\n",
              "        docLink.innerHTML = docLinkHtml;\n",
              "        element.appendChild(docLink);\n",
              "      }\n",
              "    </script>\n",
              "  </div>\n",
              "\n",
              "\n",
              "<div id=\"df-ec72d37a-8f7f-4c43-aa19-4635f5c65df9\">\n",
              "  <button class=\"colab-df-quickchart\" onclick=\"quickchart('df-ec72d37a-8f7f-4c43-aa19-4635f5c65df9')\"\n",
              "            title=\"Suggest charts\"\n",
              "            style=\"display:none;\">\n",
              "\n",
              "<svg xmlns=\"http://www.w3.org/2000/svg\" height=\"24px\"viewBox=\"0 0 24 24\"\n",
              "     width=\"24px\">\n",
              "    <g>\n",
              "        <path d=\"M19 3H5c-1.1 0-2 .9-2 2v14c0 1.1.9 2 2 2h14c1.1 0 2-.9 2-2V5c0-1.1-.9-2-2-2zM9 17H7v-7h2v7zm4 0h-2V7h2v10zm4 0h-2v-4h2v4z\"/>\n",
              "    </g>\n",
              "</svg>\n",
              "  </button>\n",
              "\n",
              "<style>\n",
              "  .colab-df-quickchart {\n",
              "      --bg-color: #E8F0FE;\n",
              "      --fill-color: #1967D2;\n",
              "      --hover-bg-color: #E2EBFA;\n",
              "      --hover-fill-color: #174EA6;\n",
              "      --disabled-fill-color: #AAA;\n",
              "      --disabled-bg-color: #DDD;\n",
              "  }\n",
              "\n",
              "  [theme=dark] .colab-df-quickchart {\n",
              "      --bg-color: #3B4455;\n",
              "      --fill-color: #D2E3FC;\n",
              "      --hover-bg-color: #434B5C;\n",
              "      --hover-fill-color: #FFFFFF;\n",
              "      --disabled-bg-color: #3B4455;\n",
              "      --disabled-fill-color: #666;\n",
              "  }\n",
              "\n",
              "  .colab-df-quickchart {\n",
              "    background-color: var(--bg-color);\n",
              "    border: none;\n",
              "    border-radius: 50%;\n",
              "    cursor: pointer;\n",
              "    display: none;\n",
              "    fill: var(--fill-color);\n",
              "    height: 32px;\n",
              "    padding: 0;\n",
              "    width: 32px;\n",
              "  }\n",
              "\n",
              "  .colab-df-quickchart:hover {\n",
              "    background-color: var(--hover-bg-color);\n",
              "    box-shadow: 0 1px 2px rgba(60, 64, 67, 0.3), 0 1px 3px 1px rgba(60, 64, 67, 0.15);\n",
              "    fill: var(--button-hover-fill-color);\n",
              "  }\n",
              "\n",
              "  .colab-df-quickchart-complete:disabled,\n",
              "  .colab-df-quickchart-complete:disabled:hover {\n",
              "    background-color: var(--disabled-bg-color);\n",
              "    fill: var(--disabled-fill-color);\n",
              "    box-shadow: none;\n",
              "  }\n",
              "\n",
              "  .colab-df-spinner {\n",
              "    border: 2px solid var(--fill-color);\n",
              "    border-color: transparent;\n",
              "    border-bottom-color: var(--fill-color);\n",
              "    animation:\n",
              "      spin 1s steps(1) infinite;\n",
              "  }\n",
              "\n",
              "  @keyframes spin {\n",
              "    0% {\n",
              "      border-color: transparent;\n",
              "      border-bottom-color: var(--fill-color);\n",
              "      border-left-color: var(--fill-color);\n",
              "    }\n",
              "    20% {\n",
              "      border-color: transparent;\n",
              "      border-left-color: var(--fill-color);\n",
              "      border-top-color: var(--fill-color);\n",
              "    }\n",
              "    30% {\n",
              "      border-color: transparent;\n",
              "      border-left-color: var(--fill-color);\n",
              "      border-top-color: var(--fill-color);\n",
              "      border-right-color: var(--fill-color);\n",
              "    }\n",
              "    40% {\n",
              "      border-color: transparent;\n",
              "      border-right-color: var(--fill-color);\n",
              "      border-top-color: var(--fill-color);\n",
              "    }\n",
              "    60% {\n",
              "      border-color: transparent;\n",
              "      border-right-color: var(--fill-color);\n",
              "    }\n",
              "    80% {\n",
              "      border-color: transparent;\n",
              "      border-right-color: var(--fill-color);\n",
              "      border-bottom-color: var(--fill-color);\n",
              "    }\n",
              "    90% {\n",
              "      border-color: transparent;\n",
              "      border-bottom-color: var(--fill-color);\n",
              "    }\n",
              "  }\n",
              "</style>\n",
              "\n",
              "  <script>\n",
              "    async function quickchart(key) {\n",
              "      const quickchartButtonEl =\n",
              "        document.querySelector('#' + key + ' button');\n",
              "      quickchartButtonEl.disabled = true;  // To prevent multiple clicks.\n",
              "      quickchartButtonEl.classList.add('colab-df-spinner');\n",
              "      try {\n",
              "        const charts = await google.colab.kernel.invokeFunction(\n",
              "            'suggestCharts', [key], {});\n",
              "      } catch (error) {\n",
              "        console.error('Error during call to suggestCharts:', error);\n",
              "      }\n",
              "      quickchartButtonEl.classList.remove('colab-df-spinner');\n",
              "      quickchartButtonEl.classList.add('colab-df-quickchart-complete');\n",
              "    }\n",
              "    (() => {\n",
              "      let quickchartButtonEl =\n",
              "        document.querySelector('#df-ec72d37a-8f7f-4c43-aa19-4635f5c65df9 button');\n",
              "      quickchartButtonEl.style.display =\n",
              "        google.colab.kernel.accessAllowed ? 'block' : 'none';\n",
              "    })();\n",
              "  </script>\n",
              "</div>\n",
              "\n",
              "    </div>\n",
              "  </div>\n"
            ],
            "application/vnd.google.colaboratory.intrinsic+json": {
              "type": "dataframe",
              "summary": "{\n  \"name\": \"display(filtered_rake_df\",\n  \"rows\": 20,\n  \"fields\": [\n    {\n      \"column\": \"id\",\n      \"properties\": {\n        \"dtype\": \"number\",\n        \"std\": 10,\n        \"min\": 103,\n        \"max\": 133,\n        \"num_unique_values\": 13,\n        \"samples\": [\n          130,\n          125,\n          103\n        ],\n        \"semantic_type\": \"\",\n        \"description\": \"\"\n      }\n    },\n    {\n      \"column\": \"score\",\n      \"properties\": {\n        \"dtype\": \"number\",\n        \"std\": 13.14303898206996,\n        \"min\": 16.0,\n        \"max\": 49.0,\n        \"num_unique_values\": 5,\n        \"samples\": [\n          36.0,\n          23.5,\n          25.0\n        ],\n        \"semantic_type\": \"\",\n        \"description\": \"\"\n      }\n    },\n    {\n      \"column\": \"phrase\",\n      \"properties\": {\n        \"dtype\": \"string\",\n        \"num_unique_values\": 19,\n        \"samples\": [\n          \"pakai teknologi jaman perang dunia hairan aku\",\n          \"berarti ini masalah gelombang sinyal\",\n          \"challenge ngejurnal & amp\"\n        ],\n        \"semantic_type\": \"\",\n        \"description\": \"\"\n      }\n    }\n  ]\n}"
            }
          },
          "metadata": {}
        }
      ]
    },
    {
      "cell_type": "markdown",
      "source": [
        "**SQL QUERY UNTUK UPDATE KOLOM FREKUENSI**\n",
        "\n",
        "UPDATE main_topics\n",
        "SET frequency = (\n",
        "    SELECT COUNT(*)\n",
        "    FROM main_topics AS mt\n",
        "    WHERE mt.topics_name = main_topics.topics_name\n",
        ");\n",
        "\n"
      ],
      "metadata": {
        "id": "chAqlXwJ_uIJ"
      }
    },
    {
      "cell_type": "code",
      "source": [
        "def insert_main_topics_to_db_with_check(filtered_rake_df):\n",
        "    print(\"Memulai proses insert data ke database...\")\n",
        "    try:\n",
        "        # Ambil ID yang sudah ada di tabel main_topics\n",
        "        with engine.connect() as conn:\n",
        "            existing_ids_query = \"SELECT x_datasets_idx_datasets FROM main_topics WHERE x_datasets_idx_datasets IS NOT NULL\"\n",
        "            existing_ids = pd.read_sql(existing_ids_query, conn)[\"x_datasets_idx_datasets\"].tolist()\n",
        "            print(f\"Jumlah ID yang sudah ada: {len(existing_ids)}\")\n",
        "\n",
        "        # Filter data baru agar hanya memasukkan ID yang belum ada\n",
        "        new_data = filtered_rake_df[~filtered_rake_df[\"id\"].isin(existing_ids)]\n",
        "        print(f\"Jumlah data baru yang akan di-insert: {len(new_data)}\")\n",
        "\n",
        "        # Siapkan data untuk insert\n",
        "        data_to_insert = []\n",
        "        for _, row in new_data.iterrows():\n",
        "            data_to_insert.append({\n",
        "                \"topics_name\": row[\"phrase\"],               # Nama topik dari hasil RAKE\n",
        "                \"frequency\": 1,                             # Frekuensi default adalah 1\n",
        "                \"x_datasets_idx_datasets\": row[\"id\"],       # Isi ID dari x_datasets\n",
        "                \"web_datasets_idweb_datasets\": None,        # NULL untuk web_datasets\n",
        "                \"youtube_datasets_idyoutube_datasets\": None # NULL untuk youtube_datasets\n",
        "            })\n",
        "\n",
        "        # Konversi ke DataFrame jika ada data baru\n",
        "        if data_to_insert:\n",
        "            df_to_insert = pd.DataFrame(data_to_insert)\n",
        "\n",
        "            # Insert data baru ke database\n",
        "            with engine.connect() as conn:\n",
        "                df_to_insert.to_sql(\"main_topics\", con=conn, if_exists=\"append\", index=False)\n",
        "            print(\"Data berhasil disimpan ke database.\")\n",
        "        else:\n",
        "            print(\"Tidak ada data baru untuk di-insert.\")\n",
        "\n",
        "    except Exception as e:\n",
        "        print(\"Kesalahan saat menyimpan data ke database:\")\n",
        "        print(e)\n",
        "\n",
        "# Panggil fungsi untuk insert data dengan pengecekan\n",
        "insert_main_topics_to_db_with_check(filtered_rake_df)\n"
      ],
      "metadata": {
        "colab": {
          "base_uri": "https://localhost:8080/"
        },
        "id": "SN6gx2-rSNQm",
        "outputId": "65619869-5609-4dff-dafc-202477da2cd1"
      },
      "execution_count": 101,
      "outputs": [
        {
          "output_type": "stream",
          "name": "stdout",
          "text": [
            "Memulai proses insert data ke database...\n",
            "Jumlah ID yang sudah ada: 158\n",
            "Jumlah data baru yang akan di-insert: 0\n",
            "Tidak ada data baru untuk di-insert.\n"
          ]
        }
      ]
    }
  ]
}