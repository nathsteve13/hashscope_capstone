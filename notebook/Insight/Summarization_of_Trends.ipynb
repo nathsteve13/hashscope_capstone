{
  "nbformat": 4,
  "nbformat_minor": 0,
  "metadata": {
    "colab": {
      "provenance": []
    },
    "kernelspec": {
      "name": "python3",
      "display_name": "Python 3"
    },
    "language_info": {
      "name": "python"
    }
  },
  "cells": [
    {
      "cell_type": "code",
      "execution_count": null,
      "metadata": {
        "id": "dZNK8pXLme6S"
      },
      "outputs": [],
      "source": [
        "import pandas as pd\n",
        "import matplotlib.pyplot as plt\n",
        "from wordcloud import WordCloud\n",
        "\n",
        "# Membaca Data dari CSV\n",
        "df = pd.read_csv('youtube_comments_technology.csv')\n",
        "\n",
        "# Menghitung frekuensi sentiment\n",
        "sentiment_counts = df['sentiment_label'].value_counts()\n",
        "sentiment_counts.plot(kind='bar', title='Sentiment Distribution')\n",
        "plt.xlabel('Sentiment')\n",
        "plt.ylabel('Counts')\n",
        "plt.show()\n",
        "\n",
        "# Word Cloud untuk komentar\n",
        "wordcloud = WordCloud(width=800, height=400, background_color='white').generate(' '.join(df['textDisplay']))\n",
        "plt.figure(figsize=(10, 5))\n",
        "plt.imshow(wordcloud, interpolation='bilinear')\n",
        "plt.axis('off')\n",
        "plt.show()"
      ]
    }
  ]
}