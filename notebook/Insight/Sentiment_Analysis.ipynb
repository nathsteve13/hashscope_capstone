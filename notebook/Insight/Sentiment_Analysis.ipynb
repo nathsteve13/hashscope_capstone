{
  "nbformat": 4,
  "nbformat_minor": 0,
  "metadata": {
    "colab": {
      "provenance": []
    },
    "kernelspec": {
      "name": "python3",
      "display_name": "Python 3"
    },
    "language_info": {
      "name": "python"
    }
  },
  "cells": [
    {
      "cell_type": "code",
      "execution_count": null,
      "metadata": {
        "id": "ce7BHKI1ltkM"
      },
      "outputs": [],
      "source": [
        "import pandas as pd\n",
        "import nltk\n",
        "from nltk.sentiment import SentimentIntensityAnalyzer\n",
        "\n",
        "# Pastikan Anda sudah mengunduh resource nltk yang diperlukan\n",
        "nltk.download('vader_lexicon')\n",
        "\n",
        "# Membaca Data dari CSV\n",
        "df = pd.read_csv('youtube_comments_technology.csv')\n",
        "\n",
        "# Sentiment Analysis\n",
        "sia = SentimentIntensityAnalyzer()\n",
        "df['sentiment'] = df['textDisplay'].apply(lambda x: sia.polarity_scores(x)['compound'])\n",
        "\n",
        "# Klasifikasi Sentiment\n",
        "df['sentiment_label'] = df['sentiment'].apply(lambda x: 'positive' if x > 0.05 else ('negative' if x < -0.05 else 'neutral'))\n",
        "\n",
        "# Menampilkan hasil analisis sentimen\n",
        "print(\"Sentiment Analysis:\")\n",
        "print(df[['textDisplay', 'sentiment', 'sentiment_label']].head())"
      ]
    }
  ]
}