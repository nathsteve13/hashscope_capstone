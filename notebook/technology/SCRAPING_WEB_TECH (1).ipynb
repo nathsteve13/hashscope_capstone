{
  "nbformat": 4,
  "nbformat_minor": 0,
  "metadata": {
    "colab": {
      "provenance": []
    },
    "kernelspec": {
      "name": "python3",
      "display_name": "Python 3"
    },
    "language_info": {
      "name": "python"
    }
  },
  "cells": [
    {
      "cell_type": "code",
      "execution_count": 1,
      "metadata": {
        "colab": {
          "base_uri": "https://localhost:8080/",
          "height": 389
        },
        "id": "r8BtaV3oPOEt",
        "outputId": "85a59579-e784-48cd-f121-d7897fb77954"
      },
      "outputs": [
        {
          "output_type": "stream",
          "name": "stdout",
          "text": [
            "Collecting setuptools==58\n",
            "  Downloading setuptools-58.0.0-py3-none-any.whl.metadata (4.9 kB)\n",
            "Downloading setuptools-58.0.0-py3-none-any.whl (816 kB)\n",
            "\u001b[?25l   \u001b[90m━━━━━━━━━━━━━━━━━━━━━━━━━━━━━━━━━━━━━━━━\u001b[0m \u001b[32m0.0/816.3 kB\u001b[0m \u001b[31m?\u001b[0m eta \u001b[36m-:--:--\u001b[0m\r\u001b[2K   \u001b[91m━━━━━━━\u001b[0m\u001b[91m╸\u001b[0m\u001b[90m━━━━━━━━━━━━━━━━━━━━━━━━━━━━━━━━\u001b[0m \u001b[32m153.6/816.3 kB\u001b[0m \u001b[31m4.5 MB/s\u001b[0m eta \u001b[36m0:00:01\u001b[0m\r\u001b[2K   \u001b[91m━━━━━━━━━━━━━━━━━━━━━━━━━━━━━━━━━━━━━━━\u001b[0m\u001b[91m╸\u001b[0m \u001b[32m809.0/816.3 kB\u001b[0m \u001b[31m12.8 MB/s\u001b[0m eta \u001b[36m0:00:01\u001b[0m\r\u001b[2K   \u001b[90m━━━━━━━━━━━━━━━━━━━━━━━━━━━━━━━━━━━━━━━━\u001b[0m \u001b[32m816.3/816.3 kB\u001b[0m \u001b[31m9.6 MB/s\u001b[0m eta \u001b[36m0:00:00\u001b[0m\n",
            "\u001b[?25hInstalling collected packages: setuptools\n",
            "  Attempting uninstall: setuptools\n",
            "    Found existing installation: setuptools 75.1.0\n",
            "    Uninstalling setuptools-75.1.0:\n",
            "      Successfully uninstalled setuptools-75.1.0\n",
            "\u001b[31mERROR: pip's dependency resolver does not currently take into account all the packages that are installed. This behaviour is the source of the following dependency conflicts.\n",
            "ipython 7.34.0 requires jedi>=0.16, which is not installed.\n",
            "arviz 0.20.0 requires setuptools>=60.0.0, but you have setuptools 58.0.0 which is incompatible.\n",
            "pytensor 2.26.3 requires setuptools>=59.0.0, but you have setuptools 58.0.0 which is incompatible.\u001b[0m\u001b[31m\n",
            "\u001b[0mSuccessfully installed setuptools-58.0.0\n"
          ]
        },
        {
          "output_type": "display_data",
          "data": {
            "application/vnd.colab-display-data+json": {
              "pip_warning": {
                "packages": [
                  "_distutils_hack",
                  "setuptools"
                ]
              },
              "id": "b3461e53d59d4d99adfe64b35da27854"
            }
          },
          "metadata": {}
        }
      ],
      "source": [
        "pip install setuptools==58"
      ]
    },
    {
      "cell_type": "code",
      "source": [
        "pip install pygooglenews --upgrade"
      ],
      "metadata": {
        "colab": {
          "base_uri": "https://localhost:8080/"
        },
        "id": "MoVbZ0p0QeOZ",
        "outputId": "45c9ee05-2440-4174-e00f-49c23c753437"
      },
      "execution_count": 1,
      "outputs": [
        {
          "output_type": "stream",
          "name": "stdout",
          "text": [
            "Collecting pygooglenews\n",
            "  Downloading pygooglenews-0.1.2-py3-none-any.whl.metadata (19 kB)\n",
            "Requirement already satisfied: beautifulsoup4<5.0.0,>=4.9.1 in /usr/local/lib/python3.10/dist-packages (from pygooglenews) (4.12.3)\n",
            "Collecting dateparser<0.8.0,>=0.7.6 (from pygooglenews)\n",
            "  Downloading dateparser-0.7.6-py2.py3-none-any.whl.metadata (26 kB)\n",
            "Collecting feedparser<6.0.0,>=5.2.1 (from pygooglenews)\n",
            "  Downloading feedparser-5.2.1.zip (1.2 MB)\n",
            "\u001b[2K     \u001b[90m━━━━━━━━━━━━━━━━━━━━━━━━━━━━━━━━━━━━━━━━\u001b[0m \u001b[32m1.2/1.2 MB\u001b[0m \u001b[31m17.1 MB/s\u001b[0m eta \u001b[36m0:00:00\u001b[0m\n",
            "\u001b[?25h  Preparing metadata (setup.py) ... \u001b[?25l\u001b[?25hdone\n",
            "Requirement already satisfied: requests<3.0.0,>=2.24.0 in /usr/local/lib/python3.10/dist-packages (from pygooglenews) (2.32.3)\n",
            "Requirement already satisfied: soupsieve>1.2 in /usr/local/lib/python3.10/dist-packages (from beautifulsoup4<5.0.0,>=4.9.1->pygooglenews) (2.6)\n",
            "Requirement already satisfied: python-dateutil in /usr/local/lib/python3.10/dist-packages (from dateparser<0.8.0,>=0.7.6->pygooglenews) (2.8.2)\n",
            "Requirement already satisfied: pytz in /usr/local/lib/python3.10/dist-packages (from dateparser<0.8.0,>=0.7.6->pygooglenews) (2024.2)\n",
            "Requirement already satisfied: regex!=2019.02.19 in /usr/local/lib/python3.10/dist-packages (from dateparser<0.8.0,>=0.7.6->pygooglenews) (2024.9.11)\n",
            "Requirement already satisfied: tzlocal in /usr/local/lib/python3.10/dist-packages (from dateparser<0.8.0,>=0.7.6->pygooglenews) (5.2)\n",
            "Requirement already satisfied: charset-normalizer<4,>=2 in /usr/local/lib/python3.10/dist-packages (from requests<3.0.0,>=2.24.0->pygooglenews) (3.4.0)\n",
            "Requirement already satisfied: idna<4,>=2.5 in /usr/local/lib/python3.10/dist-packages (from requests<3.0.0,>=2.24.0->pygooglenews) (3.10)\n",
            "Requirement already satisfied: urllib3<3,>=1.21.1 in /usr/local/lib/python3.10/dist-packages (from requests<3.0.0,>=2.24.0->pygooglenews) (2.2.3)\n",
            "Requirement already satisfied: certifi>=2017.4.17 in /usr/local/lib/python3.10/dist-packages (from requests<3.0.0,>=2.24.0->pygooglenews) (2024.8.30)\n",
            "Requirement already satisfied: six>=1.5 in /usr/local/lib/python3.10/dist-packages (from python-dateutil->dateparser<0.8.0,>=0.7.6->pygooglenews) (1.16.0)\n",
            "Downloading pygooglenews-0.1.2-py3-none-any.whl (10 kB)\n",
            "Downloading dateparser-0.7.6-py2.py3-none-any.whl (362 kB)\n",
            "\u001b[2K   \u001b[90m━━━━━━━━━━━━━━━━━━━━━━━━━━━━━━━━━━━━━━━━\u001b[0m \u001b[32m362.0/362.0 kB\u001b[0m \u001b[31m13.4 MB/s\u001b[0m eta \u001b[36m0:00:00\u001b[0m\n",
            "\u001b[?25hBuilding wheels for collected packages: feedparser\n",
            "  Building wheel for feedparser (setup.py) ... \u001b[?25l\u001b[?25hdone\n",
            "  Created wheel for feedparser: filename=feedparser-5.2.1-py3-none-any.whl size=45011 sha256=c64618b7963e111fbafc8c4f16cdf2da1e25bc7105ffc4b2f5d736d78ecf3bee\n",
            "  Stored in directory: /root/.cache/pip/wheels/35/49/00/0effa75eb79f1003f7e929da5f553ec09b485ed51e1ffceab3\n",
            "Successfully built feedparser\n",
            "Installing collected packages: feedparser, dateparser, pygooglenews\n",
            "Successfully installed dateparser-0.7.6 feedparser-5.2.1 pygooglenews-0.1.2\n"
          ]
        }
      ]
    },
    {
      "cell_type": "code",
      "source": [
        "pip install feedparser==6.0.10"
      ],
      "metadata": {
        "colab": {
          "base_uri": "https://localhost:8080/"
        },
        "id": "7FrmvOkzQ-qr",
        "outputId": "c3d745e9-f05f-4675-9c27-bbb9d09a2e89"
      },
      "execution_count": 2,
      "outputs": [
        {
          "output_type": "stream",
          "name": "stdout",
          "text": [
            "Collecting feedparser==6.0.10\n",
            "  Downloading feedparser-6.0.10-py3-none-any.whl.metadata (2.3 kB)\n",
            "Collecting sgmllib3k (from feedparser==6.0.10)\n",
            "  Downloading sgmllib3k-1.0.0.tar.gz (5.8 kB)\n",
            "  Preparing metadata (setup.py) ... \u001b[?25l\u001b[?25hdone\n",
            "Downloading feedparser-6.0.10-py3-none-any.whl (81 kB)\n",
            "\u001b[2K   \u001b[90m━━━━━━━━━━━━━━━━━━━━━━━━━━━━━━━━━━━━━━━━\u001b[0m \u001b[32m81.1/81.1 kB\u001b[0m \u001b[31m2.6 MB/s\u001b[0m eta \u001b[36m0:00:00\u001b[0m\n",
            "\u001b[?25hBuilding wheels for collected packages: sgmllib3k\n",
            "  Building wheel for sgmllib3k (setup.py) ... \u001b[?25l\u001b[?25hdone\n",
            "  Created wheel for sgmllib3k: filename=sgmllib3k-1.0.0-py3-none-any.whl size=6065 sha256=f074acf661ec236df0e04e19af475114c73b4dedfc8807725b0846563374543b\n",
            "  Stored in directory: /root/.cache/pip/wheels/f0/69/93/a47e9d621be168e9e33c7ce60524393c0b92ae83cf6c6e89c5\n",
            "Successfully built sgmllib3k\n",
            "Installing collected packages: sgmllib3k, feedparser\n",
            "  Attempting uninstall: feedparser\n",
            "    Found existing installation: feedparser 5.2.1\n",
            "    Uninstalling feedparser-5.2.1:\n",
            "      Successfully uninstalled feedparser-5.2.1\n",
            "\u001b[31mERROR: pip's dependency resolver does not currently take into account all the packages that are installed. This behaviour is the source of the following dependency conflicts.\n",
            "pygooglenews 0.1.2 requires feedparser<6.0.0,>=5.2.1, but you have feedparser 6.0.10 which is incompatible.\u001b[0m\u001b[31m\n",
            "\u001b[0mSuccessfully installed feedparser-6.0.10 sgmllib3k-1.0.0\n"
          ]
        }
      ]
    },
    {
      "cell_type": "code",
      "source": [
        "from pygooglenews import GoogleNews"
      ],
      "metadata": {
        "id": "ungcbJR-QnQw"
      },
      "execution_count": 3,
      "outputs": []
    },
    {
      "cell_type": "code",
      "source": [
        "gn = GoogleNews()"
      ],
      "metadata": {
        "id": "lj-D-X5VRHxB"
      },
      "execution_count": 4,
      "outputs": []
    },
    {
      "cell_type": "code",
      "source": [
        "technology = gn.topic_headlines('TECHNOLOGY', proxies=None, scraping_bee = None)"
      ],
      "metadata": {
        "id": "4F75tjD0UWlA"
      },
      "execution_count": 5,
      "outputs": []
    },
    {
      "cell_type": "code",
      "source": [
        "articles = technology['entries']  # Semua artikel\n",
        "data = []"
      ],
      "metadata": {
        "id": "bfucfcNVYsk-"
      },
      "execution_count": 6,
      "outputs": []
    },
    {
      "cell_type": "code",
      "source": [
        "for article in articles:\n",
        "    title = article.get('title', 'No title')\n",
        "    source = article.get('source', {}).get('title', 'Unknown source')\n",
        "    published = article.get('published', 'No date')\n",
        "    link = article.get('link', 'No link')\n",
        "\n",
        "    # Menambahkan data yang sudah dirapikan\n",
        "    data.append({\n",
        "        'Title': title,\n",
        "        'Source': source,\n",
        "        'Date': published,\n",
        "        'URL': link\n",
        "    })"
      ],
      "metadata": {
        "id": "FYZxnUc4YzkZ"
      },
      "execution_count": 7,
      "outputs": []
    },
    {
      "cell_type": "code",
      "source": [
        "import pandas as pd"
      ],
      "metadata": {
        "id": "LLp9xAPJZCJg"
      },
      "execution_count": 8,
      "outputs": []
    },
    {
      "cell_type": "code",
      "source": [
        "# Membuat DataFrame untuk menyusun data\n",
        "df = pd.DataFrame(data)\n",
        "\n",
        "# Simpan data ke file CSV\n",
        "output_path = \"technology_news.csv\"  # Ubah path sesuai kebutuhan\n",
        "df.to_csv(output_path, index=False)\n",
        "\n",
        "print(f\"Data berhasil disimpan ke {output_path}\")"
      ],
      "metadata": {
        "colab": {
          "base_uri": "https://localhost:8080/"
        },
        "id": "Jv8J7H4IZDS1",
        "outputId": "32db3914-ca23-4a13-fe29-e4275902f039"
      },
      "execution_count": 9,
      "outputs": [
        {
          "output_type": "stream",
          "name": "stdout",
          "text": [
            "Data berhasil disimpan ke technology_news.csv\n"
          ]
        }
      ]
    }
  ]
}