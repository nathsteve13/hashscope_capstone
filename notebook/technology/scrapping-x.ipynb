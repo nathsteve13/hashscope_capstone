{
 "cells": [
  {
   "cell_type": "markdown",
   "metadata": {},
   "source": [
    "X - Data Scrapping\n",
    "\n",
    "1. get auth token\n",
    "2. install package\n",
    "3. crawl data\n",
    "4. save to csv\n",
    "5. add data to database"
   ]
  },
  {
   "cell_type": "code",
   "execution_count": null,
   "metadata": {},
   "outputs": [],
   "source": [
    "# auth token\n",
    "\n",
    "twitter_auth_token = '452993740006163e4a0ad979f52880f01d094556'"
   ]
  },
  {
   "cell_type": "code",
   "execution_count": null,
   "metadata": {},
   "outputs": [],
   "source": [
    "# # Import required Python package\n",
    "# pip install pandas\n",
    "\n",
    "# # Install Node.js \n",
    "# wsl --install\n",
    "# sudo apt-get update\n",
    "# sudo apt-get install -y ca-certificates curl gnupg\n",
    "# sudo mkdir -p /etc/apt/keyrings\n",
    "# curl -fsSL https://deb.nodesource.com/gpgkey/nodesource-repo.gpg.key | sudo gpg --dearmor -o /etc/apt/keyrings/nodesource.gpg\n",
    "\n",
    "# NODE_MAJOR=20 && echo \"deb [signed-by=/etc/apt/keyrings/nodesource.gpg] https://deb.nodesource.com/node_$NODE_MAJOR.x nodistro main\" | sudo tee /etc/apt/sources.list.d/nodesource.list\n",
    "# sudo apt-get update\n",
    "# sudo apt-get install nodejs -y\n",
    "# node -v"
   ]
  },
  {
   "cell_type": "code",
   "execution_count": null,
   "metadata": {},
   "outputs": [],
   "source": [
    "# Crawl Data\n",
    "\n",
    "filename = 'gibran.csv'\n",
    "search_keyword = 'technology since:2023-04-01 until:2024-04-01 lang:id'\n",
    "limit = 100\n",
    "\n",
    "# !npx -y tweet-harvest@2.6.1 -o \"{filename}\" -s \"{search_keyword}\" --tab \"LATEST\" -l {limit} --token {twitter_auth_token}"
   ]
  },
  {
   "cell_type": "code",
   "execution_count": null,
   "metadata": {},
   "outputs": [],
   "source": [
    "import pandas as pd\n",
    "\n",
    "# Specify the path to your CSV file\n",
    "file_path = f\"dataset/{filename}\"\n",
    "\n",
    "# Read the CSV file into a pandas DataFrame\n",
    "df = pd.read_csv(file_path, delimiter=\",\")\n",
    "\n",
    "# Display the DataFrame\n",
    "display(df)"
   ]
  },
  {
   "cell_type": "code",
   "execution_count": null,
   "metadata": {},
   "outputs": [],
   "source": [
    "# Cek jumlah data yang didapatkan\n",
    "\n",
    "num_tweets = len(df)\n",
    "print(f\"Jumlah tweet dalam dataframe adalah {num_tweets}.\")"
   ]
  }
 ],
 "metadata": {
  "language_info": {
   "name": "python"
  }
 },
 "nbformat": 4,
 "nbformat_minor": 2
}
